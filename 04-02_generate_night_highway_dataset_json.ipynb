{
 "cells": [
  {
   "cell_type": "code",
   "execution_count": 1,
   "metadata": {},
   "outputs": [],
   "source": [
    "import json\n",
    "import matplotlib.patches as mpatches\n",
    "import matplotlib.image as mpimg\n",
    "import matplotlib.pyplot as plt\n",
    "import numpy as np\n",
    "import pandas as pd"
   ]
  },
  {
   "cell_type": "markdown",
   "metadata": {},
   "source": [
    "# Load Dataset"
   ]
  },
  {
   "cell_type": "code",
   "execution_count": 2,
   "metadata": {},
   "outputs": [],
   "source": [
    "# image_val_path = 'bdd100k/images/100k/train/'\n",
    "# label_path = 'bdd100k/labels/bdd100k_labels_images_train.json'\n",
    "# save_label_path = 'bdd100k/labels/bdd100k_labels_images_train_highway_night.json'"
   ]
  },
  {
   "cell_type": "code",
   "execution_count": 3,
   "metadata": {},
   "outputs": [],
   "source": [
    "image_val_path = 'bdd100k/images/100k/val/'\n",
    "label_path = 'bdd100k/labels/bdd100k_labels_images_val.json'\n",
    "save_label_path = 'bdd100k/labels/bdd100k_labels_images_val_highway_night.json'"
   ]
  },
  {
   "cell_type": "code",
   "execution_count": 4,
   "metadata": {},
   "outputs": [],
   "source": [
    "json_file = open(label_path, 'r')\n",
    "labels_json = json.load(json_file)"
   ]
  },
  {
   "cell_type": "markdown",
   "metadata": {},
   "source": [
    "# Keys"
   ]
  },
  {
   "cell_type": "code",
   "execution_count": 5,
   "metadata": {},
   "outputs": [
    {
     "data": {
      "text/plain": [
       "dict_keys(['timestamp', 'attributes', 'labels', 'name'])"
      ]
     },
     "execution_count": 5,
     "metadata": {},
     "output_type": "execute_result"
    }
   ],
   "source": [
    "labels_json[0].keys()"
   ]
  },
  {
   "cell_type": "code",
   "execution_count": 6,
   "metadata": {},
   "outputs": [
    {
     "data": {
      "text/plain": [
       "dict_keys(['id', 'manualShape', 'box2d', 'manualAttributes', 'category', 'attributes'])"
      ]
     },
     "execution_count": 6,
     "metadata": {},
     "output_type": "execute_result"
    }
   ],
   "source": [
    "labels_json[0]['labels'][0].keys()"
   ]
  },
  {
   "cell_type": "code",
   "execution_count": 7,
   "metadata": {},
   "outputs": [
    {
     "data": {
      "text/plain": [
       "dict_keys(['weather', 'timeofday', 'scene'])"
      ]
     },
     "execution_count": 7,
     "metadata": {},
     "output_type": "execute_result"
    }
   ],
   "source": [
    "labels_json[0]['attributes'].keys()"
   ]
  },
  {
   "cell_type": "code",
   "execution_count": 8,
   "metadata": {},
   "outputs": [
    {
     "data": {
      "text/plain": [
       "{'scene': 'city street', 'timeofday': 'daytime', 'weather': 'overcast'}"
      ]
     },
     "execution_count": 8,
     "metadata": {},
     "output_type": "execute_result"
    }
   ],
   "source": [
    "labels_json[0]['attributes']"
   ]
  },
  {
   "cell_type": "markdown",
   "metadata": {},
   "source": [
    "# Pandas Dataframe"
   ]
  },
  {
   "cell_type": "code",
   "execution_count": 9,
   "metadata": {
    "scrolled": true
   },
   "outputs": [],
   "source": [
    "df = pd.DataFrame(labels_json)"
   ]
  },
  {
   "cell_type": "code",
   "execution_count": 10,
   "metadata": {
    "scrolled": true
   },
   "outputs": [
    {
     "name": "stdout",
     "output_type": "stream",
     "text": [
      "10000\n"
     ]
    },
    {
     "data": {
      "text/html": [
       "<div>\n",
       "<style scoped>\n",
       "    .dataframe tbody tr th:only-of-type {\n",
       "        vertical-align: middle;\n",
       "    }\n",
       "\n",
       "    .dataframe tbody tr th {\n",
       "        vertical-align: top;\n",
       "    }\n",
       "\n",
       "    .dataframe thead th {\n",
       "        text-align: right;\n",
       "    }\n",
       "</style>\n",
       "<table border=\"1\" class=\"dataframe\">\n",
       "  <thead>\n",
       "    <tr style=\"text-align: right;\">\n",
       "      <th></th>\n",
       "      <th>attributes</th>\n",
       "      <th>labels</th>\n",
       "      <th>name</th>\n",
       "      <th>timestamp</th>\n",
       "    </tr>\n",
       "  </thead>\n",
       "  <tbody>\n",
       "    <tr>\n",
       "      <th>0</th>\n",
       "      <td>{'weather': 'overcast', 'timeofday': 'daytime'...</td>\n",
       "      <td>[{'id': 0, 'manualShape': True, 'box2d': {'y2'...</td>\n",
       "      <td>b1c66a42-6f7d68ca.jpg</td>\n",
       "      <td>10000</td>\n",
       "    </tr>\n",
       "    <tr>\n",
       "      <th>1</th>\n",
       "      <td>{'weather': 'clear', 'timeofday': 'night', 'sc...</td>\n",
       "      <td>[{'id': 51, 'manualShape': True, 'box2d': {'y2...</td>\n",
       "      <td>b1c81faa-3df17267.jpg</td>\n",
       "      <td>10000</td>\n",
       "    </tr>\n",
       "    <tr>\n",
       "      <th>2</th>\n",
       "      <td>{'weather': 'clear', 'timeofday': 'night', 'sc...</td>\n",
       "      <td>[{'id': 68, 'manualShape': True, 'box2d': {'y2...</td>\n",
       "      <td>b1c81faa-c80764c5.jpg</td>\n",
       "      <td>10000</td>\n",
       "    </tr>\n",
       "    <tr>\n",
       "      <th>3</th>\n",
       "      <td>{'weather': 'undefined', 'timeofday': 'daytime...</td>\n",
       "      <td>[{'id': 92, 'manualShape': True, 'box2d': {'y2...</td>\n",
       "      <td>b1c9c847-3bda4659.jpg</td>\n",
       "      <td>10000</td>\n",
       "    </tr>\n",
       "    <tr>\n",
       "      <th>4</th>\n",
       "      <td>{'weather': 'clear', 'timeofday': 'night', 'sc...</td>\n",
       "      <td>[{'id': 116, 'manualShape': True, 'box2d': {'y...</td>\n",
       "      <td>b1ca2e5d-84cf9134.jpg</td>\n",
       "      <td>10000</td>\n",
       "    </tr>\n",
       "  </tbody>\n",
       "</table>\n",
       "</div>"
      ],
      "text/plain": [
       "                                          attributes  \\\n",
       "0  {'weather': 'overcast', 'timeofday': 'daytime'...   \n",
       "1  {'weather': 'clear', 'timeofday': 'night', 'sc...   \n",
       "2  {'weather': 'clear', 'timeofday': 'night', 'sc...   \n",
       "3  {'weather': 'undefined', 'timeofday': 'daytime...   \n",
       "4  {'weather': 'clear', 'timeofday': 'night', 'sc...   \n",
       "\n",
       "                                              labels                   name  \\\n",
       "0  [{'id': 0, 'manualShape': True, 'box2d': {'y2'...  b1c66a42-6f7d68ca.jpg   \n",
       "1  [{'id': 51, 'manualShape': True, 'box2d': {'y2...  b1c81faa-3df17267.jpg   \n",
       "2  [{'id': 68, 'manualShape': True, 'box2d': {'y2...  b1c81faa-c80764c5.jpg   \n",
       "3  [{'id': 92, 'manualShape': True, 'box2d': {'y2...  b1c9c847-3bda4659.jpg   \n",
       "4  [{'id': 116, 'manualShape': True, 'box2d': {'y...  b1ca2e5d-84cf9134.jpg   \n",
       "\n",
       "   timestamp  \n",
       "0      10000  \n",
       "1      10000  \n",
       "2      10000  \n",
       "3      10000  \n",
       "4      10000  "
      ]
     },
     "execution_count": 10,
     "metadata": {},
     "output_type": "execute_result"
    }
   ],
   "source": [
    "print(len(df))\n",
    "df.head()"
   ]
  },
  {
   "cell_type": "markdown",
   "metadata": {},
   "source": [
    "# Search highway and night seans"
   ]
  },
  {
   "cell_type": "code",
   "execution_count": 11,
   "metadata": {
    "scrolled": true
   },
   "outputs": [],
   "source": [
    "df_highway = df[df.apply(lambda x: x['attributes']['scene'], axis=1) == 'highway']"
   ]
  },
  {
   "cell_type": "code",
   "execution_count": 12,
   "metadata": {},
   "outputs": [],
   "source": [
    "df_highway_night = df_highway[df_highway.apply(lambda x: x['attributes']['timeofday'], axis=1) == 'night']"
   ]
  },
  {
   "cell_type": "code",
   "execution_count": 13,
   "metadata": {
    "scrolled": true
   },
   "outputs": [],
   "source": [
    "df_highway_night = df_highway_night.reset_index(drop=True)"
   ]
  },
  {
   "cell_type": "code",
   "execution_count": 14,
   "metadata": {},
   "outputs": [
    {
     "name": "stdout",
     "output_type": "stream",
     "text": [
      "1007\n"
     ]
    },
    {
     "data": {
      "text/html": [
       "<div>\n",
       "<style scoped>\n",
       "    .dataframe tbody tr th:only-of-type {\n",
       "        vertical-align: middle;\n",
       "    }\n",
       "\n",
       "    .dataframe tbody tr th {\n",
       "        vertical-align: top;\n",
       "    }\n",
       "\n",
       "    .dataframe thead th {\n",
       "        text-align: right;\n",
       "    }\n",
       "</style>\n",
       "<table border=\"1\" class=\"dataframe\">\n",
       "  <thead>\n",
       "    <tr style=\"text-align: right;\">\n",
       "      <th></th>\n",
       "      <th>attributes</th>\n",
       "      <th>labels</th>\n",
       "      <th>name</th>\n",
       "      <th>timestamp</th>\n",
       "    </tr>\n",
       "  </thead>\n",
       "  <tbody>\n",
       "    <tr>\n",
       "      <th>0</th>\n",
       "      <td>{'weather': 'clear', 'timeofday': 'night', 'sc...</td>\n",
       "      <td>[{'id': 51, 'manualShape': True, 'box2d': {'y2...</td>\n",
       "      <td>b1c81faa-3df17267.jpg</td>\n",
       "      <td>10000</td>\n",
       "    </tr>\n",
       "    <tr>\n",
       "      <th>1</th>\n",
       "      <td>{'weather': 'clear', 'timeofday': 'night', 'sc...</td>\n",
       "      <td>[{'id': 68, 'manualShape': True, 'box2d': {'y2...</td>\n",
       "      <td>b1c81faa-c80764c5.jpg</td>\n",
       "      <td>10000</td>\n",
       "    </tr>\n",
       "    <tr>\n",
       "      <th>2</th>\n",
       "      <td>{'weather': 'clear', 'timeofday': 'night', 'sc...</td>\n",
       "      <td>[{'id': 831, 'manualShape': True, 'box2d': {'y...</td>\n",
       "      <td>b1d22449-117aa773.jpg</td>\n",
       "      <td>10000</td>\n",
       "    </tr>\n",
       "    <tr>\n",
       "      <th>3</th>\n",
       "      <td>{'weather': 'clear', 'timeofday': 'night', 'sc...</td>\n",
       "      <td>[{'id': 1620, 'manualShape': True, 'box2d': {'...</td>\n",
       "      <td>b1e2346e-c5f98707.jpg</td>\n",
       "      <td>10000</td>\n",
       "    </tr>\n",
       "    <tr>\n",
       "      <th>4</th>\n",
       "      <td>{'weather': 'clear', 'timeofday': 'night', 'sc...</td>\n",
       "      <td>[{'id': 1700, 'manualShape': True, 'box2d': {'...</td>\n",
       "      <td>b1e88fd2-c1e4fd2b.jpg</td>\n",
       "      <td>10000</td>\n",
       "    </tr>\n",
       "  </tbody>\n",
       "</table>\n",
       "</div>"
      ],
      "text/plain": [
       "                                          attributes  \\\n",
       "0  {'weather': 'clear', 'timeofday': 'night', 'sc...   \n",
       "1  {'weather': 'clear', 'timeofday': 'night', 'sc...   \n",
       "2  {'weather': 'clear', 'timeofday': 'night', 'sc...   \n",
       "3  {'weather': 'clear', 'timeofday': 'night', 'sc...   \n",
       "4  {'weather': 'clear', 'timeofday': 'night', 'sc...   \n",
       "\n",
       "                                              labels                   name  \\\n",
       "0  [{'id': 51, 'manualShape': True, 'box2d': {'y2...  b1c81faa-3df17267.jpg   \n",
       "1  [{'id': 68, 'manualShape': True, 'box2d': {'y2...  b1c81faa-c80764c5.jpg   \n",
       "2  [{'id': 831, 'manualShape': True, 'box2d': {'y...  b1d22449-117aa773.jpg   \n",
       "3  [{'id': 1620, 'manualShape': True, 'box2d': {'...  b1e2346e-c5f98707.jpg   \n",
       "4  [{'id': 1700, 'manualShape': True, 'box2d': {'...  b1e88fd2-c1e4fd2b.jpg   \n",
       "\n",
       "   timestamp  \n",
       "0      10000  \n",
       "1      10000  \n",
       "2      10000  \n",
       "3      10000  \n",
       "4      10000  "
      ]
     },
     "execution_count": 14,
     "metadata": {},
     "output_type": "execute_result"
    }
   ],
   "source": [
    "print(len(df_highway_night))\n",
    "df_highway_night.head()"
   ]
  },
  {
   "cell_type": "code",
   "execution_count": 15,
   "metadata": {},
   "outputs": [
    {
     "data": {
      "text/plain": [
       "{'scene': 'highway', 'timeofday': 'night', 'weather': 'clear'}"
      ]
     },
     "execution_count": 15,
     "metadata": {},
     "output_type": "execute_result"
    }
   ],
   "source": [
    "df_highway_night['attributes'][0]"
   ]
  },
  {
   "cell_type": "markdown",
   "metadata": {},
   "source": [
    "# Search parallel four lanes seans"
   ]
  },
  {
   "cell_type": "code",
   "execution_count": 16,
   "metadata": {},
   "outputs": [],
   "source": [
    "df_highway_night_lane = pd.DataFrame()\n",
    "\n",
    "for i in range(len(df_highway_night)):\n",
    "    tmp_se = df_highway_night.iloc[i]\n",
    "    tmp_label = df_highway_night.iloc[i]['labels']\n",
    "    \n",
    "    lane_count = 0\n",
    "    vertical_flag = False\n",
    "    for j in range(len(tmp_label)):\n",
    "        if 'laneDirection' in tmp_label[j]['attributes']:\n",
    "            if tmp_label[j]['attributes']['laneDirection'] == 'parallel':\n",
    "                lane_count += 1\n",
    "            elif tmp_label[j]['attributes']['laneDirection'] == 'vertical':\n",
    "                vertical_flag = True\n",
    "\n",
    "    if lane_count >= 4 and vertical_flag == False:\n",
    "        df_highway_night_lane = df_highway_night_lane.append(tmp_se)"
   ]
  },
  {
   "cell_type": "code",
   "execution_count": 17,
   "metadata": {},
   "outputs": [],
   "source": [
    "df_highway_night_lane = df_highway_night_lane.reset_index(drop=True)"
   ]
  },
  {
   "cell_type": "code",
   "execution_count": 18,
   "metadata": {},
   "outputs": [
    {
     "name": "stdout",
     "output_type": "stream",
     "text": [
      "726\n"
     ]
    },
    {
     "data": {
      "text/html": [
       "<div>\n",
       "<style scoped>\n",
       "    .dataframe tbody tr th:only-of-type {\n",
       "        vertical-align: middle;\n",
       "    }\n",
       "\n",
       "    .dataframe tbody tr th {\n",
       "        vertical-align: top;\n",
       "    }\n",
       "\n",
       "    .dataframe thead th {\n",
       "        text-align: right;\n",
       "    }\n",
       "</style>\n",
       "<table border=\"1\" class=\"dataframe\">\n",
       "  <thead>\n",
       "    <tr style=\"text-align: right;\">\n",
       "      <th></th>\n",
       "      <th>attributes</th>\n",
       "      <th>labels</th>\n",
       "      <th>name</th>\n",
       "      <th>timestamp</th>\n",
       "    </tr>\n",
       "  </thead>\n",
       "  <tbody>\n",
       "    <tr>\n",
       "      <th>0</th>\n",
       "      <td>{'weather': 'clear', 'timeofday': 'night', 'sc...</td>\n",
       "      <td>[{'id': 51, 'manualShape': True, 'box2d': {'y2...</td>\n",
       "      <td>b1c81faa-3df17267.jpg</td>\n",
       "      <td>10000.0</td>\n",
       "    </tr>\n",
       "    <tr>\n",
       "      <th>1</th>\n",
       "      <td>{'weather': 'clear', 'timeofday': 'night', 'sc...</td>\n",
       "      <td>[{'id': 68, 'manualShape': True, 'box2d': {'y2...</td>\n",
       "      <td>b1c81faa-c80764c5.jpg</td>\n",
       "      <td>10000.0</td>\n",
       "    </tr>\n",
       "    <tr>\n",
       "      <th>2</th>\n",
       "      <td>{'weather': 'clear', 'timeofday': 'night', 'sc...</td>\n",
       "      <td>[{'id': 831, 'manualShape': True, 'box2d': {'y...</td>\n",
       "      <td>b1d22449-117aa773.jpg</td>\n",
       "      <td>10000.0</td>\n",
       "    </tr>\n",
       "    <tr>\n",
       "      <th>3</th>\n",
       "      <td>{'weather': 'clear', 'timeofday': 'night', 'sc...</td>\n",
       "      <td>[{'id': 1620, 'manualShape': True, 'box2d': {'...</td>\n",
       "      <td>b1e2346e-c5f98707.jpg</td>\n",
       "      <td>10000.0</td>\n",
       "    </tr>\n",
       "    <tr>\n",
       "      <th>4</th>\n",
       "      <td>{'weather': 'clear', 'timeofday': 'night', 'sc...</td>\n",
       "      <td>[{'id': 1700, 'manualShape': True, 'box2d': {'...</td>\n",
       "      <td>b1e88fd2-c1e4fd2b.jpg</td>\n",
       "      <td>10000.0</td>\n",
       "    </tr>\n",
       "  </tbody>\n",
       "</table>\n",
       "</div>"
      ],
      "text/plain": [
       "                                          attributes  \\\n",
       "0  {'weather': 'clear', 'timeofday': 'night', 'sc...   \n",
       "1  {'weather': 'clear', 'timeofday': 'night', 'sc...   \n",
       "2  {'weather': 'clear', 'timeofday': 'night', 'sc...   \n",
       "3  {'weather': 'clear', 'timeofday': 'night', 'sc...   \n",
       "4  {'weather': 'clear', 'timeofday': 'night', 'sc...   \n",
       "\n",
       "                                              labels                   name  \\\n",
       "0  [{'id': 51, 'manualShape': True, 'box2d': {'y2...  b1c81faa-3df17267.jpg   \n",
       "1  [{'id': 68, 'manualShape': True, 'box2d': {'y2...  b1c81faa-c80764c5.jpg   \n",
       "2  [{'id': 831, 'manualShape': True, 'box2d': {'y...  b1d22449-117aa773.jpg   \n",
       "3  [{'id': 1620, 'manualShape': True, 'box2d': {'...  b1e2346e-c5f98707.jpg   \n",
       "4  [{'id': 1700, 'manualShape': True, 'box2d': {'...  b1e88fd2-c1e4fd2b.jpg   \n",
       "\n",
       "   timestamp  \n",
       "0    10000.0  \n",
       "1    10000.0  \n",
       "2    10000.0  \n",
       "3    10000.0  \n",
       "4    10000.0  "
      ]
     },
     "execution_count": 18,
     "metadata": {},
     "output_type": "execute_result"
    }
   ],
   "source": [
    "print(len(df_highway_night_lane))\n",
    "df_highway_night_lane.head()"
   ]
  },
  {
   "cell_type": "markdown",
   "metadata": {},
   "source": [
    "# Show"
   ]
  },
  {
   "cell_type": "code",
   "execution_count": 19,
   "metadata": {},
   "outputs": [],
   "source": [
    "data_example_name = df_highway_night_lane.iloc[0]['name']"
   ]
  },
  {
   "cell_type": "code",
   "execution_count": 20,
   "metadata": {},
   "outputs": [
    {
     "data": {
      "text/plain": [
       "'bdd100k/images/100k/val/b1c81faa-3df17267.jpg'"
      ]
     },
     "execution_count": 20,
     "metadata": {},
     "output_type": "execute_result"
    }
   ],
   "source": [
    "img_path = image_val_path + data_example_name\n",
    "img = mpimg.imread(img_path)\n",
    "img_path"
   ]
  },
  {
   "cell_type": "code",
   "execution_count": 21,
   "metadata": {},
   "outputs": [
    {
     "data": {
      "text/plain": [
       "<matplotlib.image.AxesImage at 0x7f43f96c6f98>"
      ]
     },
     "execution_count": 21,
     "metadata": {},
     "output_type": "execute_result"
    },
    {
     "data": {
      "image/png": "[encoded data removed]",
      "text/plain": [
       "<Figure size 720x720 with 1 Axes>"
      ]
     },
     "metadata": {
      "needs_background": "light"
     },
     "output_type": "display_data"
    }
   ],
   "source": [
    "fig = plt.figure(figsize=(10,10))\n",
    "plt.plot()\n",
    "plt.imshow(img)"
   ]
  },
  {
   "cell_type": "markdown",
   "metadata": {},
   "source": [
    "# pandas dataframe -> dict"
   ]
  },
  {
   "cell_type": "code",
   "execution_count": 22,
   "metadata": {},
   "outputs": [],
   "source": [
    "dict_highway_night_lane = df_highway_night_lane.to_dict(orient='index')"
   ]
  },
  {
   "cell_type": "markdown",
   "metadata": {},
   "source": [
    "# dict -> list"
   ]
  },
  {
   "cell_type": "code",
   "execution_count": 23,
   "metadata": {},
   "outputs": [],
   "source": [
    "list_highway_night_lane = list(dict_highway_night_lane.items())"
   ]
  },
  {
   "cell_type": "markdown",
   "metadata": {},
   "source": [
    "# delete list index"
   ]
  },
  {
   "cell_type": "code",
   "execution_count": 24,
   "metadata": {},
   "outputs": [
    {
     "data": {
      "text/plain": [
       "0"
      ]
     },
     "execution_count": 24,
     "metadata": {},
     "output_type": "execute_result"
    }
   ],
   "source": [
    "list_highway_night_lane[0][0]"
   ]
  },
  {
   "cell_type": "code",
   "execution_count": 25,
   "metadata": {},
   "outputs": [],
   "source": [
    "l = list_highway_night_lane\n",
    "list_highway_night_lane_delete_index = list([v[1] for v in l])"
   ]
  },
  {
   "cell_type": "markdown",
   "metadata": {},
   "source": [
    "# Save into a json file with indent"
   ]
  },
  {
   "cell_type": "code",
   "execution_count": 26,
   "metadata": {},
   "outputs": [],
   "source": [
    "with open(save_label_path, 'w') as f:\n",
    "    json.dump(list_highway_night_lane_delete_index, f, indent=4)"
   ]
  },
  {
   "cell_type": "markdown",
   "metadata": {},
   "source": [
    "# Result "
   ]
  },
  {
   "cell_type": "code",
   "execution_count": 27,
   "metadata": {},
   "outputs": [
    {
     "name": "stdout",
     "output_type": "stream",
     "text": [
      "10000 -> 1007 -> 726\n"
     ]
    }
   ],
   "source": [
    "print(len(df), '->', len(df_highway_night), '->', len(df_highway_night_lane))"
   ]
  }
 ],
 "metadata": {
  "kernelspec": {
   "display_name": "Python 3",
   "language": "python",
   "name": "python3"
  },
  "language_info": {
   "codemirror_mode": {
    "name": "ipython",
    "version": 3
   },
   "file_extension": ".py",
   "mimetype": "text/x-python",
   "name": "python",
   "nbconvert_exporter": "python",
   "pygments_lexer": "ipython3",
   "version": "3.5.2"
  }
 },
 "nbformat": 4,
 "nbformat_minor": 2
}
