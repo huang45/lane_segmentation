{
 "cells": [
  {
   "cell_type": "code",
   "execution_count": 1,
   "metadata": {},
   "outputs": [],
   "source": [
    "import cv2\n",
    "import json\n",
    "\n",
    "import matplotlib\n",
    "matplotlib.use('Agg')\n",
    "import matplotlib.image as mpimg\n",
    "import matplotlib.pyplot as plt\n",
    "import matplotlib.patches as mpatches\n",
    "from matplotlib.path import Path\n",
    "\n",
    "import numpy as np\n",
    "import os\n",
    "import os.path as ops\n",
    "from collections import Iterable\n",
    "\n",
    "from multiprocessing import Pool\n",
    "from multiprocessing import Process"
   ]
  },
  {
   "cell_type": "markdown",
   "metadata": {},
   "source": [
    "# Path"
   ]
  },
  {
   "cell_type": "code",
   "execution_count": 2,
   "metadata": {},
   "outputs": [],
   "source": [
    "# image_dir = '../bdd100k/images/100k/train/'\n",
    "# label_paths = '../bdd100k/labels/bdd100k_labels_images_train_highway_lane.json'\n",
    "\n",
    "# save_image_path = '../bdd100k/images/100k_train/gt_image/'\n",
    "# save_binary_path = '../bdd100k/images/100k_train/gt_binary_image/'\n",
    "# save_combine_path = '../bdd100k/images/100k_train/gt_combine_image/'"
   ]
  },
  {
   "cell_type": "code",
   "execution_count": 3,
   "metadata": {},
   "outputs": [],
   "source": [
    "image_dir = '../bdd100k/images/100k/val/'\n",
    "label_paths = '../bdd100k/labels/bdd100k_labels_images_val_highway_lane.json'\n",
    "\n",
    "save_image_path = '../bdd100k/images/100k_val/gt_image/'\n",
    "save_binary_path = '../bdd100k/images/100k_val/gt_binary_image/'\n",
    "save_combine_path = '../bdd100k/images/100k_val/gt_combine_image/'"
   ]
  },
  {
   "cell_type": "code",
   "execution_count": 4,
   "metadata": {},
   "outputs": [],
   "source": [
    "if not ops.exists(save_image_path):\n",
    "    os.makedirs(save_image_path)\n",
    "if not ops.exists(save_binary_path):\n",
    "    os.makedirs(save_binary_path)\n",
    "if not ops.exists(save_combine_path):\n",
    "    os.makedirs(save_combine_path)"
   ]
  },
  {
   "cell_type": "markdown",
   "metadata": {},
   "source": [
    "# Generate binary image"
   ]
  },
  {
   "cell_type": "code",
   "execution_count": 5,
   "metadata": {},
   "outputs": [],
   "source": [
    "def read_labels(label_path):\n",
    "    labels = json.load(open(label_path, 'r'))\n",
    "    if not isinstance(labels, Iterable):\n",
    "        labels = [labels]\n",
    "    return labels"
   ]
  },
  {
   "cell_type": "code",
   "execution_count": 6,
   "metadata": {},
   "outputs": [],
   "source": [
    "label = read_labels(label_paths)"
   ]
  },
  {
   "cell_type": "code",
   "execution_count": 7,
   "metadata": {},
   "outputs": [],
   "source": [
    "def get_lanes(objects):\n",
    "    return [o for o in objects\n",
    "            if 'poly2d' in o and o['category'][:4] == 'lane']"
   ]
  },
  {
   "cell_type": "code",
   "execution_count": 8,
   "metadata": {},
   "outputs": [],
   "source": [
    "def poly2patch(vertices, types, closed=False, alpha=1., color=None):\n",
    "    moves = {'L': Path.LINETO,\n",
    "             'C': Path.CURVE4}\n",
    "    points = [v for v in vertices]\n",
    "    codes = [moves[t] for t in types]\n",
    "    codes[0] = Path.MOVETO\n",
    "\n",
    "    if closed:\n",
    "        points.append(points[0])\n",
    "        codes.append(Path.CLOSEPOLY)\n",
    "\n",
    "    if color is None:\n",
    "        color = random_color()\n",
    "\n",
    "    return mpatches.PathPatch(\n",
    "        Path(points, codes),\n",
    "        facecolor=color if closed else 'none',\n",
    "        edgecolor=color,  # if not closed else 'none',\n",
    "        lw=1 if closed else 5 * 1, alpha=alpha,\n",
    "        antialiased=False, snap=True)"
   ]
  },
  {
   "cell_type": "code",
   "execution_count": 9,
   "metadata": {},
   "outputs": [],
   "source": [
    "def draw_lane_line(frame, ax, binaly=False):\n",
    "    objects = frame['labels']\n",
    "\n",
    "    objects = get_lanes(objects)\n",
    "    if binaly:\n",
    "        color = np.array([255, 255, 255, 255]) / 255\n",
    "    else:\n",
    "        color = np.array([255, 0, 0, 255]) / 255\n",
    "    alpha = 1.0\n",
    "\n",
    "    for obj in objects:\n",
    "        if obj['attributes']['laneDirection'] == 'parallel' and \\\n",
    "           obj['attributes']['laneType'] != 'road curb':\n",
    "            for poly in obj['poly2d']:\n",
    "                ax.add_patch(poly2patch(poly['vertices'], poly['types'], closed=poly['closed'],\n",
    "                                        alpha=alpha, color=color))"
   ]
  },
  {
   "cell_type": "code",
   "execution_count": 10,
   "metadata": {},
   "outputs": [],
   "source": [
    "def function(i):    \n",
    "    frame = label[i]\n",
    "    image_path = image_dir + frame['name']\n",
    "    img = mpimg.imread(image_path)\n",
    "    save_name = '{:04d}.png'.format(i+start_number)\n",
    "\n",
    "    # matplotlib setting\n",
    "    dpi = 80\n",
    "    w = 16\n",
    "    h = 9\n",
    "    fig = plt.figure(figsize=(w, h), dpi=dpi)\n",
    "    ax = fig.add_axes([0.0, 0.0, 1.0, 1.0], frameon=False, polar=False, projection=None)\n",
    "\n",
    "    # img\n",
    "    img_uint8 = np.array(img, dtype=np.uint8)\n",
    "    ax.imshow(img_uint8, interpolation='nearest', aspect='auto')\n",
    "    ax.axis('off')\n",
    "    if save:\n",
    "        plt.savefig(save_image_path + save_name)\n",
    "\n",
    "    # binary lane img\n",
    "    img_uint8_zero = np.zeros([img.shape[0], img.shape[1], img.shape[2]], np.uint8)\n",
    "    ax.imshow(img_uint8_zero, interpolation='nearest', aspect='auto', cmap=plt.cm.gray)\n",
    "    draw_lane_line(frame, ax, binaly=True)\n",
    "    ax.axis('off')\n",
    "    if save:\n",
    "        plt.savefig(save_binary_path + save_name)\n",
    "\n",
    "    # img + lane\n",
    "    img_uint8 = np.array(img, dtype=np.uint8)\n",
    "    ax.imshow(img_uint8, interpolation='nearest', aspect='auto')\n",
    "    draw_lane_line(frame, ax)\n",
    "    ax.axis('off')\n",
    "    if save:\n",
    "        plt.savefig(save_combine_path + save_name)\n",
    "\n",
    "    plt.clf()\n",
    "    plt.close('all')\n",
    "\n",
    "    return"
   ]
  },
  {
   "cell_type": "code",
   "execution_count": 11,
   "metadata": {},
   "outputs": [],
   "source": [
    "start_number = 0\n",
    "save = True\n",
    "max_processes = 8\n",
    "\n",
    "n = len(label)\n",
    "# n = 10"
   ]
  },
  {
   "cell_type": "code",
   "execution_count": 12,
   "metadata": {
    "scrolled": false
   },
   "outputs": [],
   "source": [
    "p = Pool(max_processes)\n",
    "p.map(function, range(n))\n",
    "p.close()\n",
    "p.terminate()"
   ]
  }
 ],
 "metadata": {
  "kernelspec": {
   "display_name": "Python 3",
   "language": "python",
   "name": "python3"
  },
  "language_info": {
   "codemirror_mode": {
    "name": "ipython",
    "version": 3
   },
   "file_extension": ".py",
   "mimetype": "text/x-python",
   "name": "python",
   "nbconvert_exporter": "python",
   "pygments_lexer": "ipython3",
   "version": "3.5.2"
  }
 },
 "nbformat": 4,
 "nbformat_minor": 2
}
