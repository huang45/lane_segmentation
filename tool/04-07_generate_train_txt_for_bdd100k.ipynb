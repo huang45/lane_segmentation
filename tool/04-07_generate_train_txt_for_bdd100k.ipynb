{
 "cells": [
  {
   "cell_type": "code",
   "execution_count": 1,
   "metadata": {},
   "outputs": [],
   "source": [
    "import cv2\n",
    "import numpy as np\n",
    "import os\n",
    "import os.path as ops"
   ]
  },
  {
   "cell_type": "markdown",
   "metadata": {},
   "source": [
    "# Generate txt file"
   ]
  },
  {
   "cell_type": "code",
   "execution_count": 2,
   "metadata": {},
   "outputs": [],
   "source": [
    "def gen_train_sample(save_txt_path, b_gt_image_dir, image_dir):\n",
    "    with open(save_txt_path, 'w') as file:\n",
    "        for image_name in os.listdir(b_gt_image_dir):\n",
    "            if not image_name.endswith('.png'):\n",
    "                continue\n",
    "\n",
    "            binary_gt_image_path = ops.join(b_gt_image_dir, image_name)\n",
    "            image_path = ops.join(image_dir, image_name)\n",
    "\n",
    "            assert ops.exists(image_path), '{:s} not exist'.format(image_path)\n",
    "\n",
    "            b_gt_image = cv2.imread(binary_gt_image_path, cv2.IMREAD_COLOR)\n",
    "            image = cv2.imread(image_path, cv2.IMREAD_COLOR)\n",
    "\n",
    "            if b_gt_image is None or image is None is None:\n",
    "                continue\n",
    "            else:\n",
    "                info = '{:s} {:s}'.format(image_path, binary_gt_image_path)\n",
    "                file.write(info + '\\n')\n",
    "    return"
   ]
  },
  {
   "cell_type": "code",
   "execution_count": 3,
   "metadata": {},
   "outputs": [],
   "source": [
    "# save_image_path = '../bdd100k/images/100k_train/gt_image/'\n",
    "# save_binary_path = '../bdd100k/images/100k_train/gt_binary_image/'\n",
    "# save_txt_path = '../bdd100k/images/100k_train/train.txt'\n",
    "\n",
    "save_image_path = '../bdd100k/images/100k_val/gt_image/'\n",
    "save_binary_path = '../bdd100k/images/100k_val/gt_binary_image/'\n",
    "save_txt_path = '../bdd100k/images/100k_val/val.txt'"
   ]
  },
  {
   "cell_type": "code",
   "execution_count": 4,
   "metadata": {},
   "outputs": [],
   "source": [
    "gen_train_sample(save_txt_path, save_binary_path, save_image_path)"
   ]
  }
 ],
 "metadata": {
  "kernelspec": {
   "display_name": "Python 3",
   "language": "python",
   "name": "python3"
  },
  "language_info": {
   "codemirror_mode": {
    "name": "ipython",
    "version": 3
   },
   "file_extension": ".py",
   "mimetype": "text/x-python",
   "name": "python",
   "nbconvert_exporter": "python",
   "pygments_lexer": "ipython3",
   "version": "3.5.2"
  }
 },
 "nbformat": 4,
 "nbformat_minor": 2
}
