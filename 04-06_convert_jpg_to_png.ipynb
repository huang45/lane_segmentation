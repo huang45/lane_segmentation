{
 "cells": [
  {
   "cell_type": "code",
   "execution_count": 1,
   "metadata": {},
   "outputs": [],
   "source": [
    "from PIL import Image\n",
    "import sys\n",
    "import os\n",
    "import re"
   ]
  },
  {
   "cell_type": "code",
   "execution_count": 2,
   "metadata": {},
   "outputs": [],
   "source": [
    "start_number = 0\n",
    "\n",
    "def jpg2png(input_path, output_path):\n",
    "    files = os.listdir(input_path)\n",
    "    count = start_number\n",
    "    for file in files:\n",
    "        img = Image.open(input_path + '{:04d}.jpg'.format(count))\n",
    "        img.save(output_path + '{:04d}.png'.format(count), 'png')\n",
    "        count = count + 1"
   ]
  },
  {
   "cell_type": "code",
   "execution_count": 3,
   "metadata": {},
   "outputs": [],
   "source": [
    "input_path = 'bdd100k/images/100k_train/gt_image_jpg/'\n",
    "output_path = 'bdd100k/images/100k_train/gt_image/'\n",
    "jpg2png(input_path, output_path)\n",
    "\n",
    "input_path = 'bdd100k/images/100k_train/gt_binary_image_jpg/'\n",
    "output_path = 'bdd100k/images/100k_train/gt_binary_image/'\n",
    "jpg2png(input_path, output_path)"
   ]
  },
  {
   "cell_type": "code",
   "execution_count": 4,
   "metadata": {},
   "outputs": [],
   "source": [
    "# input_path = 'bdd100k/images/100k_val/gt_image_jpg/'\n",
    "# output_path = 'bdd100k/images/100k_val/gt_image/'\n",
    "# jpg2png(input_path, output_path)\n",
    "\n",
    "# input_path = 'bdd100k/images/100k_val/gt_binary_image_jpg/'\n",
    "# output_path = 'bdd100k/images/100k_val/gt_binary_image/'\n",
    "# jpg2png(input_path, output_path)"
   ]
  },
  {
   "cell_type": "markdown",
   "metadata": {},
   "source": [
    "Or we can use this.\n",
    "\n",
    "$ mogrify -path gt_image -format png  *.jpg"
   ]
  }
 ],
 "metadata": {
  "kernelspec": {
   "display_name": "Python 3",
   "language": "python",
   "name": "python3"
  },
  "language_info": {
   "codemirror_mode": {
    "name": "ipython",
    "version": 3
   },
   "file_extension": ".py",
   "mimetype": "text/x-python",
   "name": "python",
   "nbconvert_exporter": "python",
   "pygments_lexer": "ipython3",
   "version": "3.5.2"
  }
 },
 "nbformat": 4,
 "nbformat_minor": 2
}
